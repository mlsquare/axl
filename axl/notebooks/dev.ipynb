{
 "cells": [
  {
   "cell_type": "markdown",
   "metadata": {},
   "source": [
    "# Boolean Variation\n",
    "[BOLD: Boolean Logic Deep Learning](https://arxiv.org/pdf/2405.16339) introduced a mathematical theory to caculuate graidents on Boolean Variables. Below are some necessary info to realize the truth tables, define a Boolean Deep Learning model, and train the network using Backprop. See the paper for details. The following are taken from the paper."
   ]
  },
  {
   "cell_type": "code",
   "execution_count": null,
   "metadata": {},
   "outputs": [],
   "source": [
    "%load_ext autoreload\n",
    "%autoreload 2\n",
    "import os\n",
    "import sys\n",
    "\n",
    "module_path = os.path.abspath(os.path.join('../')) # or the path\n",
    "sys.path.append(module_path)\n",
    "\n",
    "from engine import Bool\n",
    "import itertools\n",
    "import pandas as pd\n",
    "import numpy as np"
   ]
  },
  {
   "cell_type": "markdown",
   "metadata": {},
   "source": [
    "# Boolean Variation\n",
    "[BOLD: Boolean Logic Deep Learning](https://arxiv.org/pdf/2405.16339) introduced a mathematical theory to caculuate graidents on Boolean Variables. Below are some necessary info to realize the truth tables, define a Boolean Deep Learning model, and train the network using Backprop. See the paper for details. The following are taken from the paper.\n",
    "\n",
    "## Definition\n",
    "\n",
    "### Three-value and Mixed logic\n",
    "1. Define $\\mathcal{M} \\equiv \\mathcal{B} \\cup \\{0\\}$ with logic connectives defined according to those of Boolean logic as follows. \n",
    "    - First, the negation is: $\\neg True = False$, $\\neg False = True$, and $\\neg 0 = 0$. \n",
    "    - Second, let $\\mathcal{L}$ be a logic connective, denote by $\\mathcal{L}_{\\mathcal{M}}$ and $\\mathcal{L}_{\\mathcal{B}}$ when it is in $\\mathcal{M}$ and in $\\mathcal{B}$, respectively, then $\\mathcal{L}_{\\mathcal{Mb}}(a,b) = \\mathcal{L}_{\\mathcal{Bb}}(a,b)$ for $a, b \\in \\mathcal{B}$ and $\\mathcal{L}_{\\mathcal{M}}(a,b) = 0$ otherwise.\n",
    "2. Denote by $\\mathcal{L}$ a logic set (e.g., $\\mathcal{B}$ or $\\mathcal{M}$), $\\mathcal{R}$ the real set, $\\mathcal{Z}$ the set of integers, $\\mathcal{N}$ a numeric set (e.g., $\\mathcal{R}$ or $\\mathcal{Z}$), and $\\mathcal{D}$ a certain set of $\\mathcal{L}$ or $\\mathcal{N}$.\n",
    "3. For $x \\in \\mathcal{N}$, its logic value denoted by $x_{logic}$ is given as $x_{logic} = True \\Leftrightarrow x > 0$, $x_{logic} = False \\Leftrightarrow x < 0$, and $x_{logic} = 0 \\Leftrightarrow x = 0$.\n",
    "4. The magnitude of a variable $x$, denoted $|x|$, is defined as its usual absolute value if $x \\in \\mathcal{N}$. And for $x \\in \\mathcal{L}$: $|x| = 0$ if $x = 0$, and $|x| = 1$ otherwise.\n",
    "5. For $\\mathcal{L}$ a logic connective of $\\mathcal{L}$ and variables $a$, $b$, operation $c = \\mathcal{L}(a, b)$ is defined such that $|c| = |a||b|$ and $c_{logic} = \\mathcal{L}(a_{logic}, b_{logic})$. \n",
    "\n",
    "\n",
    "### Calculus\n",
    "1. A variable x is (extended) Boolean variable with the following encoding $x \\in \\{-1,0,1\\}$ where $-1$ represents logical $False$, $+1$ represents logical $True$, and $0$ represents $Ignore$. We can call this extended Boolean domain.\n",
    "2. Order relations $<$ and $>$ in $\\mathcal{B}$ are defined as follows: $False < True$, and $True > False$.\n",
    "3. For $a, b \\in \\mathcal{B}$, the variation from $a$ to $b$, denoted $\\delta(a \\to b)$, is defined as: $\\delta(a \\to b) \\equiv True$ if $b > a$, $\\equiv 0$ if $b = a$, and $\\equiv False$ if $b < a$.\n",
    "4. For $f \\in \\mathcal{F}(\\mathcal{B}, \\mathcal{D})$, $\\forall x \\in \\mathcal{B}$, write $\\delta f(x \\to \\neg x) := \\delta(f(x) \\to f(\\neg x))$. The variation of $f$ w.r.t $x$, denoted $f'(x)$, is defined as: $f'(x) \\equiv \\text{xnor}(\\delta(x \\to \\neg x), \\delta f(x \\to \\neg x))$.\n",
    "\n",
    "For simplicity, we will write $\\delta f$ to denote $\\delta f(x \\to \\neg x)$. Similarly, $\\delta x$ to denote $\\delta (x \\to \\neg x)$ \n",
    "\n",
    "\n",
    "For details see, Section 3.2 of [BOLD: Boolean Logic Deep Learning](https://arxiv.org/pdf/2405.16339)"
   ]
  },
  {
   "cell_type": "markdown",
   "metadata": {},
   "source": [
    "### AND Gate\n",
    "#### Truth Table\n",
    "\n",
    "l\n",
    "$AND(x_1,x_2) \\equiv 0$ if any of the inputs are 0, by definition.\n",
    "\n",
    "#### Derivative\n",
    "\n",
    "Recall:\n",
    "1. $\\delta(a \\to b) \\equiv True$ if $b > a$, $\\equiv 0$ if $b = a$, and $\\equiv False$ if $b < a$.\n",
    "2. $f'(x) \\equiv \\text{xnor}(\\delta(x \\to \\neg x), \\delta f(x \\to \\neg x))$.\n",
    "\n",
    "The Truth Table for $f(x) = f_a(x) = AND(x,a)$ is:\n",
    "\n",
    "| $a$ | $x$ | $\\neg x$ | $\\delta x$ | $f(x)$ |$f(\\neg x)$ |  $\\delta f$ | $f'$ \n",
    "|-----|-----|-----|-----| -----| -----|-----|-----|\n",
    "T| T | F | F | T | F | F | T | \n",
    "T| F | T | T | F | T | T | T | \n",
    "F| T | F | F | F | F | 0 | 0 |\n",
    "F| F | T | T | F | F | 0 | 0 |\n",
    "\n",
    "Therefore, $f'_{a}(x) = \\text{T} \\text{ iff } a=T, 0 \\text{ o.w}$\n",
    "\n",
    "\n",
    "### OR Gate\n",
    "\n",
    "#### Truth Table\n",
    "\n",
    "| $x_1$ | $x_2$ | $y_{OR}$ | \n",
    "|-----|-----|-----|\n",
    "T| T | T | \n",
    "T| F | T |\n",
    "F| T | T | \n",
    "F| F | F |\n",
    "\n",
    "$AND(x_1,x_2) \\equiv 0$ if any of the inputs are 0, by definition.\n",
    "\n",
    "#### Derivative\n",
    "\n",
    "$f'_{a}(x) = \\text{F} \\text{ iff } a=F, 0 \\text{ o.w}$\n",
    "\n",
    "### XOR Gate\n",
    "\n",
    "#### Truth Table\n",
    "\n",
    "| $x_1$ | $x_2$ | $y_{XOR}$ | \n",
    "|-----|-----|-----|\n",
    "T| T | F | \n",
    "T| F | T |\n",
    "F| T | T | \n",
    "F| F | F |\n",
    "\n",
    "$XOR(x_1,x_2) \\equiv 0$ if any of the inputs are 0, by definition.\n",
    "\n",
    "#### Derivative\n",
    "\n",
    "$f'_{a}(x) = \\neg a$\n"
   ]
  },
  {
   "cell_type": "markdown",
   "metadata": {},
   "source": [
    "## AND Gate"
   ]
  },
  {
   "cell_type": "code",
   "execution_count": 2,
   "metadata": {},
   "outputs": [
    {
     "name": "stdout",
     "output_type": "stream",
     "text": [
      "   a  x  f  f'\n",
      "0 -1 -1 -1   0\n",
      "1 -1  1 -1   0\n",
      "2 -1  0  0   0\n",
      "3  1 -1 -1   1\n",
      "4  1  1  1   1\n",
      "5  1  0  0   0\n",
      "6  0 -1  0   0\n",
      "7  0  1  0   0\n",
      "8  0  0  0   0\n"
     ]
    }
   ],
   "source": [
    "# check AND gate. Logic and Derivative\n",
    "\n",
    "def test_2ary(gate='AND'):\n",
    "    A = [-1,1,0]\n",
    "    X = [-1,1,0]\n",
    "    data = []\n",
    "    for element in itertools.product(*[A,X]):\n",
    "        a,x = element\n",
    "        xb = Bool(x)\n",
    "        ab = Bool(a)\n",
    "        if gate == 'AND':\n",
    "            z = ab*xb\n",
    "        elif gate == 'OR':\n",
    "            z = ab+xb\n",
    "        else:\n",
    "            z = ab^xb\n",
    "        \n",
    "        z.backward()\n",
    "        data.append({\n",
    "                'a': a,\n",
    "                'x': x,\n",
    "                'f': z.data,\n",
    "                'f\\'': xb.grad\n",
    "            })\n",
    "\n",
    "    df = pd.DataFrame(data)\n",
    "    return df\n",
    "df = test_2ary()\n",
    "print(df)"
   ]
  },
  {
   "cell_type": "markdown",
   "metadata": {},
   "source": [
    "Can see that $f'_a(x)$ is $1$ only when $a=1$, o.w it is 0."
   ]
  },
  {
   "cell_type": "markdown",
   "metadata": {},
   "source": [
    "## OR Gate"
   ]
  },
  {
   "cell_type": "code",
   "execution_count": 3,
   "metadata": {},
   "outputs": [
    {
     "name": "stdout",
     "output_type": "stream",
     "text": [
      "   a  x  f  f'\n",
      "0 -1 -1 -1  -1\n",
      "1 -1  1  1  -1\n",
      "2 -1  0  0   0\n",
      "3  1 -1  1   0\n",
      "4  1  1  1   0\n",
      "5  1  0  0   0\n",
      "6  0 -1  0   0\n",
      "7  0  1  0   0\n",
      "8  0  0  0   0\n"
     ]
    }
   ],
   "source": [
    "# check AND gate. Logic and Derivative\n",
    "df = test_2ary(gate='OR')\n",
    "print(df)"
   ]
  },
  {
   "cell_type": "markdown",
   "metadata": {},
   "source": [
    "Can see that $f'_a(x)$ is $-1$ only when $a=-1$, o.w it is 0."
   ]
  },
  {
   "cell_type": "markdown",
   "metadata": {},
   "source": [
    "## XOR Gate"
   ]
  },
  {
   "cell_type": "code",
   "execution_count": 4,
   "metadata": {},
   "outputs": [
    {
     "name": "stdout",
     "output_type": "stream",
     "text": [
      "   a  x  f  f'\n",
      "0 -1 -1 -1   1\n",
      "1 -1  1  1   1\n",
      "2 -1  0  0   0\n",
      "3  1 -1  1  -1\n",
      "4  1  1 -1  -1\n",
      "5  1  0  0   0\n",
      "6  0 -1  0   0\n",
      "7  0  1  0   0\n",
      "8  0  0  0   0\n"
     ]
    }
   ],
   "source": [
    "# check AND gate. Logic and Derivative\n",
    "df = test_2ary(gate='XOR')\n",
    "print(df)"
   ]
  },
  {
   "cell_type": "markdown",
   "metadata": {},
   "source": [
    "Can see that $f'_a(x)$ is $\\neg a$ and is 0 when a is 0."
   ]
  },
  {
   "cell_type": "markdown",
   "metadata": {},
   "source": [
    "## Compositions\n",
    "\n",
    "\n",
    "**Chain Rule**\n",
    "\n",
    "For $\\mathcal{B} \\overset{f}{\\to} \\mathcal{B} \\overset{g}{\\to} \\mathcal{D}$: $(g \\circ f)'(x) = \\text{xnor}(g'(f(x)), f'(x))$, $\\forall x \\in \\mathcal{B}$.\n",
    "\n",
    "**Multivariate Chain Rule**\n",
    "\n",
    "1. For $x = (x_1, \\ldots, x_n) \\in \\mathcal{B}^n$, denote $x_{\\neg i} := (x_1, \\ldots, x_{i-1}, \\neg x_i, x_{i+1}, \\ldots, x_n)$ for $n \\ge 1$ and $1 \\leq i \\leq n$.\n",
    "\n",
    "2. For $f \\in \\mathcal{F}(\\mathcal{B}^n, \\mathcal{B})$, the (partial) variation of $f$ wrt $x_i$, denoted $f'_{i}(x)$ or $\\delta f(x)/\\delta x_i$, is defined as: $f'_{i}(x) \\equiv \\delta f(x)/\\delta x_i \\equiv xnor(\\delta(x_i \\to \\neg x_i), \\delta f(x \\to x_{\\neg i}))$.\n",
    "\n",
    "3.  Let $f \\in \\mathcal{F}(\\mathcal{B}^n, \\mathcal{B})$, $n \\geq 1$, and $g \\in \\mathcal{F}(\\mathcal{B}, \\mathcal{B})$. For $1 \\le i \\le n$,\n",
    "\n",
    "$$(g \\circ f)'_i(x) = \\text{xnor}(g'(f(x)), f'_i(x)), \\quad \\forall x \\in \\mathcal{B}^n$$\n"
   ]
  },
  {
   "cell_type": "code",
   "execution_count": 5,
   "metadata": {},
   "outputs": [
    {
     "name": "stdout",
     "output_type": "stream",
     "text": [
      "                x1               x2  f: x1 * x2  f'(x1)\n",
      "0  data:-1, grad:0  data:-1, grad:0          -1       0\n",
      "1  data:-1, grad:1   data:1, grad:0          -1       1\n",
      "2  data:-1, grad:0   data:0, grad:0           0       0\n",
      "3   data:1, grad:0  data:-1, grad:1          -1       0\n",
      "4   data:1, grad:1   data:1, grad:1           1       1\n",
      "5   data:1, grad:0   data:0, grad:0           0       0\n",
      "6   data:0, grad:0  data:-1, grad:0           0       0\n",
      "7   data:0, grad:0   data:1, grad:0           0       0\n",
      "8   data:0, grad:0   data:0, grad:0           0       0\n"
     ]
    }
   ],
   "source": [
    "\n",
    "def test_Kary(expression = \"x1*x2\", K=2):\n",
    "    T = [-1, 1, 0]\n",
    "   \n",
    "    # Create the Cartesian product of T repeated K times\n",
    "    cartesian_product = list(itertools.product(T, repeat=K))\n",
    "   \n",
    "    # Generate variable names based on the index\n",
    "    variable_names = [f'x{i+1}' for i in range(K)]\n",
    "\n",
    "   \n",
    "    data = []\n",
    "    # Print the result with variable names and evaluate the expression\n",
    "    for product in cartesian_product:\n",
    "        # Create a dictionary of variable names and their corresponding values\n",
    "        variables = {variable_names[i]: Bool(product[i]) for i in range(K)}\n",
    "        \n",
    "        # Evaluate the expression using the variables\n",
    "        result = eval(expression, {}, variables)\n",
    "        result.backward()\n",
    "\n",
    "        tmp = variables\n",
    "        tmp['f: '+ expression] = result.data\n",
    "        tmp['f\\'(x1)'] = variables['x1'].grad\n",
    "\n",
    "        data.append(tmp)\n",
    "    \n",
    "    df = pd.DataFrame(data)\n",
    "    return df\n",
    "\n",
    "expression = \"x1 * x2\"\n",
    "K = 2\n",
    "df = test_Kary(expression=expression, K=K)\n",
    "print(df)\n"
   ]
  },
  {
   "cell_type": "code",
   "execution_count": 6,
   "metadata": {},
   "outputs": [
    {
     "name": "stdout",
     "output_type": "stream",
     "text": [
      "                 x1                x2  f: x1^x2  f'(x1)\n",
      "0   data:-1, grad:1   data:-1, grad:1        -1       1\n",
      "1  data:-1, grad:-1    data:1, grad:1         1      -1\n",
      "2   data:-1, grad:0    data:0, grad:0         0       0\n",
      "3    data:1, grad:1  data:-1, grad:-1         1       1\n",
      "4   data:1, grad:-1   data:1, grad:-1        -1      -1\n",
      "5    data:1, grad:0    data:0, grad:0         0       0\n",
      "6    data:0, grad:0   data:-1, grad:0         0       0\n",
      "7    data:0, grad:0    data:1, grad:0         0       0\n",
      "8    data:0, grad:0    data:0, grad:0         0       0\n"
     ]
    }
   ],
   "source": [
    "expression = \"x1^x2\"\n",
    "K = 2\n",
    "df = test_Kary(expression=expression, K=K)\n",
    "print(df)"
   ]
  },
  {
   "cell_type": "markdown",
   "metadata": {},
   "source": [
    "Can see $f_a'(x) = \\neg a$ and zero whenever any element is 0"
   ]
  },
  {
   "cell_type": "markdown",
   "metadata": {},
   "source": [
    "**Permutation Invariance**\n",
    "\n",
    "a*b*c  = c*b*c\n",
    "a+b+c = c+a+b"
   ]
  },
  {
   "cell_type": "code",
   "execution_count": 7,
   "metadata": {},
   "outputs": [
    {
     "name": "stdout",
     "output_type": "stream",
     "text": [
      "True\n",
      "True\n",
      "True\n",
      "True\n"
     ]
    }
   ],
   "source": [
    "K = 3\n",
    "expression = \"x1 * x2 * x3\"\n",
    "df1= test_Kary(expression=expression, K=K)\n",
    "expression = \"x3 * x2 * x1\"\n",
    "df2= test_Kary(expression=expression, K=K)\n",
    "\n",
    "\n",
    "print(np.all(df1[df1.columns[-1]]==df1[df1.columns[-1]]))\n",
    "print(np.all(df1[df1.columns[-2]]==df2[df2.columns[-2]]))\n",
    "\n",
    "expression = \"x1 + x2 + x3\"\n",
    "df1= test_Kary(expression=expression, K=K)\n",
    "\n",
    "expression = \"x3 + x2 + x1\"\n",
    "df2= test_Kary(expression=expression, K=K)\n",
    "\n",
    "print(np.all(df1[df1.columns[-1]]==df1[df1.columns[-1]]))\n",
    "print(np.all(df1[df1.columns[-2]]==df2[df2.columns[-2]]))"
   ]
  },
  {
   "cell_type": "code",
   "execution_count": 8,
   "metadata": {},
   "outputs": [
    {
     "name": "stdout",
     "output_type": "stream",
     "text": [
      "xor(a,b)\n",
      " data:-1, grad:1 data:-1, grad:0 data:1, grad:-1 data:1, grad:1\n"
     ]
    }
   ],
   "source": [
    "# check composition\n",
    "a = Bool(-1);b = Bool(1);c=Bool(1)\n",
    "z = b^a+c\n",
    "z.backward()\n",
    "print('xor(a,b)\\n', z,a,b,c)"
   ]
  },
  {
   "cell_type": "code",
   "execution_count": 9,
   "metadata": {},
   "outputs": [
    {
     "data": {
      "image/svg+xml": [
       "<?xml version=\"1.0\" encoding=\"UTF-8\" standalone=\"no\"?>\n",
       "<!DOCTYPE svg PUBLIC \"-//W3C//DTD SVG 1.1//EN\"\n",
       " \"http://www.w3.org/Graphics/SVG/1.1/DTD/svg11.dtd\">\n",
       "<!-- Generated by graphviz version 12.1.2 (20240928.0832)\n",
       " -->\n",
       "<!-- Pages: 1 -->\n",
       "<svg width=\"1048pt\" height=\"210pt\"\n",
       " viewBox=\"0.00 0.00 1048.00 210.00\" xmlns=\"http://www.w3.org/2000/svg\" xmlns:xlink=\"http://www.w3.org/1999/xlink\">\n",
       "<g id=\"graph0\" class=\"graph\" transform=\"scale(1 1) rotate(0) translate(4 206)\">\n",
       "<polygon fill=\"white\" stroke=\"none\" points=\"-4,4 -4,-206 1044,-206 1044,4 -4,4\"/>\n",
       "<!-- 4396332560 -->\n",
       "<g id=\"node1\" class=\"node\">\n",
       "<title>4396332560</title>\n",
       "<polygon fill=\"none\" stroke=\"black\" points=\"4.5,-165.5 4.5,-201.5 165.5,-201.5 165.5,-165.5 4.5,-165.5\"/>\n",
       "<text text-anchor=\"middle\" x=\"44.38\" y=\"-178.7\" font-family=\"Times,serif\" font-size=\"14.00\">data 1.0000</text>\n",
       "<polyline fill=\"none\" stroke=\"black\" points=\"84.25,-166 84.25,-201.5\"/>\n",
       "<text text-anchor=\"middle\" x=\"124.88\" y=\"-178.7\" font-family=\"Times,serif\" font-size=\"14.00\">grad 1.0000</text>\n",
       "</g>\n",
       "<!-- 4817821296^ -->\n",
       "<g id=\"node4\" class=\"node\">\n",
       "<title>4817821296^</title>\n",
       "<ellipse fill=\"none\" stroke=\"black\" cx=\"233\" cy=\"-128.5\" rx=\"27\" ry=\"18\"/>\n",
       "<text text-anchor=\"middle\" x=\"233\" y=\"-123.45\" font-family=\"Times,serif\" font-size=\"14.00\">^</text>\n",
       "</g>\n",
       "<!-- 4396332560&#45;&gt;4817821296^ -->\n",
       "<g id=\"edge6\" class=\"edge\">\n",
       "<title>4396332560&#45;&gt;4817821296^</title>\n",
       "<path fill=\"none\" stroke=\"black\" d=\"M145.95,-165.15C154.08,-162.39 162.28,-159.47 170,-156.5 179.93,-152.68 190.55,-148.08 200.14,-143.72\"/>\n",
       "<polygon fill=\"black\" stroke=\"black\" points=\"201.46,-146.96 209.07,-139.59 198.53,-140.61 201.46,-146.96\"/>\n",
       "</g>\n",
       "<!-- 4817882656 -->\n",
       "<g id=\"node2\" class=\"node\">\n",
       "<title>4817882656</title>\n",
       "<polygon fill=\"none\" stroke=\"black\" points=\"583,-27.5 583,-63.5 753,-63.5 753,-27.5 583,-27.5\"/>\n",
       "<text text-anchor=\"middle\" x=\"625.12\" y=\"-40.7\" font-family=\"Times,serif\" font-size=\"14.00\">data &#45;1.0000</text>\n",
       "<polyline fill=\"none\" stroke=\"black\" points=\"667.25,-28 667.25,-63.5\"/>\n",
       "<text text-anchor=\"middle\" x=\"710.12\" y=\"-40.7\" font-family=\"Times,serif\" font-size=\"14.00\">grad &#45;1.0000</text>\n",
       "</g>\n",
       "<!-- 4817820960^ -->\n",
       "<g id=\"node9\" class=\"node\">\n",
       "<title>4817820960^</title>\n",
       "<ellipse fill=\"none\" stroke=\"black\" cx=\"816\" cy=\"-72.5\" rx=\"27\" ry=\"18\"/>\n",
       "<text text-anchor=\"middle\" x=\"816\" y=\"-67.45\" font-family=\"Times,serif\" font-size=\"14.00\">^</text>\n",
       "</g>\n",
       "<!-- 4817882656&#45;&gt;4817820960^ -->\n",
       "<g id=\"edge7\" class=\"edge\">\n",
       "<title>4817882656&#45;&gt;4817820960^</title>\n",
       "<path fill=\"none\" stroke=\"black\" d=\"M753.08,-61.05C761.92,-62.68 770.54,-64.28 778.4,-65.73\"/>\n",
       "<polygon fill=\"black\" stroke=\"black\" points=\"777.72,-69.17 788.19,-67.54 779,-62.28 777.72,-69.17\"/>\n",
       "</g>\n",
       "<!-- 4817821296 -->\n",
       "<g id=\"node3\" class=\"node\">\n",
       "<title>4817821296</title>\n",
       "<polygon fill=\"none\" stroke=\"black\" points=\"296,-110.5 296,-146.5 457,-146.5 457,-110.5 296,-110.5\"/>\n",
       "<text text-anchor=\"middle\" x=\"335.88\" y=\"-123.7\" font-family=\"Times,serif\" font-size=\"14.00\">data 1.0000</text>\n",
       "<polyline fill=\"none\" stroke=\"black\" points=\"375.75,-111 375.75,-146.5\"/>\n",
       "<text text-anchor=\"middle\" x=\"416.38\" y=\"-123.7\" font-family=\"Times,serif\" font-size=\"14.00\">grad 1.0000</text>\n",
       "</g>\n",
       "<!-- 4817821488* -->\n",
       "<g id=\"node11\" class=\"node\">\n",
       "<title>4817821488*</title>\n",
       "<ellipse fill=\"none\" stroke=\"black\" cx=\"520\" cy=\"-100.5\" rx=\"27\" ry=\"18\"/>\n",
       "<text text-anchor=\"middle\" x=\"520\" y=\"-95.45\" font-family=\"Times,serif\" font-size=\"14.00\">*</text>\n",
       "</g>\n",
       "<!-- 4817821296&#45;&gt;4817821488* -->\n",
       "<g id=\"edge11\" class=\"edge\">\n",
       "<title>4817821296&#45;&gt;4817821488*</title>\n",
       "<path fill=\"none\" stroke=\"black\" d=\"M457.35,-112.7C466.09,-110.97 474.64,-109.28 482.46,-107.73\"/>\n",
       "<polygon fill=\"black\" stroke=\"black\" points=\"483.08,-111.18 492.21,-105.8 481.72,-104.31 483.08,-111.18\"/>\n",
       "</g>\n",
       "<!-- 4817821296^&#45;&gt;4817821296 -->\n",
       "<g id=\"edge1\" class=\"edge\">\n",
       "<title>4817821296^&#45;&gt;4817821296</title>\n",
       "<path fill=\"none\" stroke=\"black\" d=\"M260.28,-128.5C267.4,-128.5 275.52,-128.5 284.08,-128.5\"/>\n",
       "<polygon fill=\"black\" stroke=\"black\" points=\"284.04,-132 294.04,-128.5 284.04,-125 284.04,-132\"/>\n",
       "</g>\n",
       "<!-- 4817821872 -->\n",
       "<g id=\"node5\" class=\"node\">\n",
       "<title>4817821872</title>\n",
       "<polygon fill=\"none\" stroke=\"black\" points=\"296,-55.5 296,-91.5 457,-91.5 457,-55.5 296,-55.5\"/>\n",
       "<text text-anchor=\"middle\" x=\"335.88\" y=\"-68.7\" font-family=\"Times,serif\" font-size=\"14.00\">data 1.0000</text>\n",
       "<polyline fill=\"none\" stroke=\"black\" points=\"375.75,-56 375.75,-91.5\"/>\n",
       "<text text-anchor=\"middle\" x=\"416.38\" y=\"-68.7\" font-family=\"Times,serif\" font-size=\"14.00\">grad 1.0000</text>\n",
       "</g>\n",
       "<!-- 4817821872&#45;&gt;4817821488* -->\n",
       "<g id=\"edge9\" class=\"edge\">\n",
       "<title>4817821872&#45;&gt;4817821488*</title>\n",
       "<path fill=\"none\" stroke=\"black\" d=\"M457.35,-88.74C466.09,-90.4 474.64,-92.04 482.46,-93.53\"/>\n",
       "<polygon fill=\"black\" stroke=\"black\" points=\"481.73,-96.95 492.21,-95.39 483.04,-90.08 481.73,-96.95\"/>\n",
       "</g>\n",
       "<!-- 4817821872^ -->\n",
       "<g id=\"node6\" class=\"node\">\n",
       "<title>4817821872^</title>\n",
       "<ellipse fill=\"none\" stroke=\"black\" cx=\"233\" cy=\"-73.5\" rx=\"27\" ry=\"18\"/>\n",
       "<text text-anchor=\"middle\" x=\"233\" y=\"-68.45\" font-family=\"Times,serif\" font-size=\"14.00\">^</text>\n",
       "</g>\n",
       "<!-- 4817821872^&#45;&gt;4817821872 -->\n",
       "<g id=\"edge2\" class=\"edge\">\n",
       "<title>4817821872^&#45;&gt;4817821872</title>\n",
       "<path fill=\"none\" stroke=\"black\" d=\"M260.28,-73.5C267.4,-73.5 275.52,-73.5 284.08,-73.5\"/>\n",
       "<polygon fill=\"black\" stroke=\"black\" points=\"284.04,-77 294.04,-73.5 284.04,-70 284.04,-77\"/>\n",
       "</g>\n",
       "<!-- 4396332224 -->\n",
       "<g id=\"node7\" class=\"node\">\n",
       "<title>4396332224</title>\n",
       "<polygon fill=\"none\" stroke=\"black\" points=\"4.5,-55.5 4.5,-91.5 165.5,-91.5 165.5,-55.5 4.5,-55.5\"/>\n",
       "<text text-anchor=\"middle\" x=\"44.38\" y=\"-68.7\" font-family=\"Times,serif\" font-size=\"14.00\">data 1.0000</text>\n",
       "<polyline fill=\"none\" stroke=\"black\" points=\"84.25,-56 84.25,-91.5\"/>\n",
       "<text text-anchor=\"middle\" x=\"124.88\" y=\"-68.7\" font-family=\"Times,serif\" font-size=\"14.00\">grad 1.0000</text>\n",
       "</g>\n",
       "<!-- 4396332224&#45;&gt;4817821872^ -->\n",
       "<g id=\"edge5\" class=\"edge\">\n",
       "<title>4396332224&#45;&gt;4817821872^</title>\n",
       "<path fill=\"none\" stroke=\"black\" d=\"M165.83,-73.5C175.72,-73.5 185.44,-73.5 194.25,-73.5\"/>\n",
       "<polygon fill=\"black\" stroke=\"black\" points=\"194.13,-77 204.13,-73.5 194.13,-70 194.13,-77\"/>\n",
       "</g>\n",
       "<!-- 4817820960 -->\n",
       "<g id=\"node8\" class=\"node\">\n",
       "<title>4817820960</title>\n",
       "<polygon fill=\"none\" stroke=\"black\" points=\"879,-54.5 879,-90.5 1040,-90.5 1040,-54.5 879,-54.5\"/>\n",
       "<text text-anchor=\"middle\" x=\"918.88\" y=\"-67.7\" font-family=\"Times,serif\" font-size=\"14.00\">data 1.0000</text>\n",
       "<polyline fill=\"none\" stroke=\"black\" points=\"958.75,-55 958.75,-90.5\"/>\n",
       "<text text-anchor=\"middle\" x=\"999.38\" y=\"-67.7\" font-family=\"Times,serif\" font-size=\"14.00\">grad 1.0000</text>\n",
       "</g>\n",
       "<!-- 4817820960^&#45;&gt;4817820960 -->\n",
       "<g id=\"edge3\" class=\"edge\">\n",
       "<title>4817820960^&#45;&gt;4817820960</title>\n",
       "<path fill=\"none\" stroke=\"black\" d=\"M843.28,-72.5C850.4,-72.5 858.52,-72.5 867.08,-72.5\"/>\n",
       "<polygon fill=\"black\" stroke=\"black\" points=\"867.04,-76 877.04,-72.5 867.04,-69 867.04,-76\"/>\n",
       "</g>\n",
       "<!-- 4817821488 -->\n",
       "<g id=\"node10\" class=\"node\">\n",
       "<title>4817821488</title>\n",
       "<polygon fill=\"none\" stroke=\"black\" points=\"587.5,-82.5 587.5,-118.5 748.5,-118.5 748.5,-82.5 587.5,-82.5\"/>\n",
       "<text text-anchor=\"middle\" x=\"627.38\" y=\"-95.7\" font-family=\"Times,serif\" font-size=\"14.00\">data 1.0000</text>\n",
       "<polyline fill=\"none\" stroke=\"black\" points=\"667.25,-83 667.25,-118.5\"/>\n",
       "<text text-anchor=\"middle\" x=\"707.88\" y=\"-95.7\" font-family=\"Times,serif\" font-size=\"14.00\">grad 1.0000</text>\n",
       "</g>\n",
       "<!-- 4817821488&#45;&gt;4817820960^ -->\n",
       "<g id=\"edge10\" class=\"edge\">\n",
       "<title>4817821488&#45;&gt;4817820960^</title>\n",
       "<path fill=\"none\" stroke=\"black\" d=\"M748.83,-85.19C759.11,-83.22 769.2,-81.28 778.29,-79.54\"/>\n",
       "<polygon fill=\"black\" stroke=\"black\" points=\"778.94,-82.98 788.1,-77.66 777.62,-76.1 778.94,-82.98\"/>\n",
       "</g>\n",
       "<!-- 4817821488*&#45;&gt;4817821488 -->\n",
       "<g id=\"edge4\" class=\"edge\">\n",
       "<title>4817821488*&#45;&gt;4817821488</title>\n",
       "<path fill=\"none\" stroke=\"black\" d=\"M547.44,-100.5C555.83,-100.5 565.62,-100.5 575.93,-100.5\"/>\n",
       "<polygon fill=\"black\" stroke=\"black\" points=\"575.76,-104 585.76,-100.5 575.76,-97 575.76,-104\"/>\n",
       "</g>\n",
       "<!-- 4817887168 -->\n",
       "<g id=\"node12\" class=\"node\">\n",
       "<title>4817887168</title>\n",
       "<polygon fill=\"none\" stroke=\"black\" points=\"0,-0.5 0,-36.5 170,-36.5 170,-0.5 0,-0.5\"/>\n",
       "<text text-anchor=\"middle\" x=\"42.12\" y=\"-13.7\" font-family=\"Times,serif\" font-size=\"14.00\">data &#45;1.0000</text>\n",
       "<polyline fill=\"none\" stroke=\"black\" points=\"84.25,-1 84.25,-36.5\"/>\n",
       "<text text-anchor=\"middle\" x=\"127.12\" y=\"-13.7\" font-family=\"Times,serif\" font-size=\"14.00\">grad &#45;1.0000</text>\n",
       "</g>\n",
       "<!-- 4817887168&#45;&gt;4817821872^ -->\n",
       "<g id=\"edge8\" class=\"edge\">\n",
       "<title>4817887168&#45;&gt;4817821872^</title>\n",
       "<path fill=\"none\" stroke=\"black\" d=\"M145.95,-36.85C154.08,-39.61 162.28,-42.53 170,-45.5 179.93,-49.32 190.55,-53.92 200.14,-58.28\"/>\n",
       "<polygon fill=\"black\" stroke=\"black\" points=\"198.53,-61.39 209.07,-62.41 201.46,-55.04 198.53,-61.39\"/>\n",
       "</g>\n",
       "<!-- 4817890288 -->\n",
       "<g id=\"node13\" class=\"node\">\n",
       "<title>4817890288</title>\n",
       "<polygon fill=\"none\" stroke=\"black\" points=\"0,-110.5 0,-146.5 170,-146.5 170,-110.5 0,-110.5\"/>\n",
       "<text text-anchor=\"middle\" x=\"42.12\" y=\"-123.7\" font-family=\"Times,serif\" font-size=\"14.00\">data &#45;1.0000</text>\n",
       "<polyline fill=\"none\" stroke=\"black\" points=\"84.25,-111 84.25,-146.5\"/>\n",
       "<text text-anchor=\"middle\" x=\"127.12\" y=\"-123.7\" font-family=\"Times,serif\" font-size=\"14.00\">grad &#45;1.0000</text>\n",
       "</g>\n",
       "<!-- 4817890288&#45;&gt;4817821296^ -->\n",
       "<g id=\"edge12\" class=\"edge\">\n",
       "<title>4817890288&#45;&gt;4817821296^</title>\n",
       "<path fill=\"none\" stroke=\"black\" d=\"M170.08,-128.5C178.57,-128.5 186.85,-128.5 194.45,-128.5\"/>\n",
       "<polygon fill=\"black\" stroke=\"black\" points=\"194.26,-132 204.26,-128.5 194.26,-125 194.26,-132\"/>\n",
       "</g>\n",
       "</g>\n",
       "</svg>\n"
      ],
      "text/plain": [
       "<graphviz.graphs.Digraph at 0x11f1f3c10>"
      ]
     },
     "execution_count": 9,
     "metadata": {},
     "output_type": "execute_result"
    }
   ],
   "source": [
    "# check composition\n",
    "from engine import Bool\n",
    "from utils import draw_dot\n",
    "\n",
    "\n",
    "y = Bool(-1);\n",
    "x1 = Bool(1); x2 = Bool(1)\n",
    "w1 = Bool(-1); w2 = Bool(-1); \n",
    "\n",
    "h1 = x1^w1\n",
    "h2 = x2^w2\n",
    "\n",
    "z = h1*h2\n",
    "L = z^y\n",
    "\n",
    "L.backward()\n",
    "\n",
    "draw_dot(L)"
   ]
  }
 ],
 "metadata": {
  "kernelspec": {
   "display_name": "ai839",
   "language": "python",
   "name": "python3"
  },
  "language_info": {
   "codemirror_mode": {
    "name": "ipython",
    "version": 3
   },
   "file_extension": ".py",
   "mimetype": "text/x-python",
   "name": "python",
   "nbconvert_exporter": "python",
   "pygments_lexer": "ipython3",
   "version": "3.10.0"
  }
 },
 "nbformat": 4,
 "nbformat_minor": 2
}
